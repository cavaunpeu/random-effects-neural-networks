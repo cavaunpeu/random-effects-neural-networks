{
 "cells": [
  {
   "cell_type": "markdown",
   "metadata": {},
   "source": [
    "# models to build\n",
    "\n",
    "- linear model\n",
    "- linear mixed effects model\n",
    "- linear hierarchical model\n",
    "- linear mixed effects hierarchical model with neural network"
   ]
  },
  {
   "cell_type": "markdown",
   "metadata": {},
   "source": [
    "# notes\n",
    "- plop in the neural net\n",
    "- edward is awesome?\n",
    "- we're super flexible in all directions with edward, keras"
   ]
  },
  {
   "cell_type": "markdown",
   "metadata": {},
   "source": [
    "# import data"
   ]
  },
  {
   "cell_type": "code",
   "execution_count": null,
   "metadata": {
    "collapsed": true
   },
   "outputs": [],
   "source": [
    "import edward as ed\n",
    "import matplotlib.pyplot as plt\n",
    "import numpy as np\n",
    "import pandas as pd\n",
    "from sklearn.model_selection import train_test_split"
   ]
  },
  {
   "cell_type": "code",
   "execution_count": null,
   "metadata": {
    "collapsed": true
   },
   "outputs": [],
   "source": [
    "import tensorflow as tf"
   ]
  },
  {
   "cell_type": "code",
   "execution_count": null,
   "metadata": {
    "collapsed": true
   },
   "outputs": [],
   "source": [
    "from edward.models import Normal"
   ]
  },
  {
   "cell_type": "code",
   "execution_count": null,
   "metadata": {
    "collapsed": true
   },
   "outputs": [],
   "source": [
    "properties_df = pd.read_csv('data/properties.csv', low_memory=False)\n",
    "transactions_df = pd.read_csv('data/transactions.csv')"
   ]
  },
  {
   "cell_type": "code",
   "execution_count": null,
   "metadata": {
    "collapsed": true
   },
   "outputs": [],
   "source": [
    "properties_df = properties_df.rename(columns={\n",
    "    'parcelid': 'id_parcel',\n",
    "    'yearbuilt': 'build_year',\n",
    "    'basementsqft': 'area_basement',\n",
    "    'yardbuildingsqft17': 'area_patio',\n",
    "    'yardbuildingsqft26': 'area_shed',\n",
    "    'poolsizesum': 'area_pool',\n",
    "    'lotsizesquarefeet': 'area_lot',\n",
    "    'garagetotalsqft': 'area_garage',\n",
    "    'finishedfloor1squarefeet': 'area_firstfloor_finished',\n",
    "    'calculatedfinishedsquarefeet': 'area_total_calc',\n",
    "    'finishedsquarefeet6': 'area_base',\n",
    "    'finishedsquarefeet12': 'area_live_finished',\n",
    "    'finishedsquarefeet13': 'area_liveperi_finished',\n",
    "    'finishedsquarefeet15': 'area_total_finished',\n",
    "    'finishedsquarefeet50': 'area_unknown',\n",
    "    'unitcnt': 'num_unit',\n",
    "    'numberofstories': 'num_story',\n",
    "    'roomcnt': 'num_room',\n",
    "    'bathroomcnt': 'num_bathroom',\n",
    "    'bedroomcnt': 'num_bedroom',\n",
    "    'calculatedbathnbr': 'num_bathroom_calc',\n",
    "    'fullbathcnt': 'num_bath',\n",
    "    'threequarterbathnbr': 'num_75_bath',\n",
    "    'fireplacecnt': 'num_fireplace',\n",
    "    'poolcnt': 'num_pool',\n",
    "    'garagecarcnt': 'num_garage',\n",
    "    'regionidcounty': 'region_county',\n",
    "    'regionidcity': 'region_city',\n",
    "    'regionidzip': 'region_zip',\n",
    "    'regionidneighborhood': 'region_neighbor',\n",
    "    'taxvaluedollarcnt': 'tax_total',\n",
    "    'structuretaxvaluedollarcnt': 'tax_building',\n",
    "    'landtaxvaluedollarcnt': 'tax_land',\n",
    "    'taxamount': 'tax_property',\n",
    "    'assessmentyear': 'tax_year',\n",
    "    'taxdelinquencyflag': 'tax_delinquency',\n",
    "    'taxdelinquencyyear': 'tax_delinquency_year',\n",
    "    'propertyzoningdesc': 'zoning_property',\n",
    "    'propertylandusetypeid': 'zoning_landuse',\n",
    "    'propertycountylandusecode': 'zoning_landuse_county',\n",
    "    'fireplaceflag': 'flag_fireplace',\n",
    "    'hashottuborspa': 'flag_tub',\n",
    "    'buildingqualitytypeid': 'quality',\n",
    "    'buildingclasstypeid': 'framing',\n",
    "    'typeconstructiontypeid': 'material',\n",
    "    'decktypeid': 'deck',\n",
    "    'storytypeid': 'story',\n",
    "    'heatingorsystemtypeid': 'heating',\n",
    "    'airconditioningtypeid': 'aircon',\n",
    "    'architecturalstyletypeid': 'architectural_style'\n",
    "})"
   ]
  },
  {
   "cell_type": "code",
   "execution_count": 6,
   "metadata": {
    "collapsed": true
   },
   "outputs": [],
   "source": [
    "transactions_df = transactions_df.rename(columns={\n",
    "  'parcelid': 'id_parcel',\n",
    "  'transactiondate': 'date'\n",
    "})"
   ]
  },
  {
   "cell_type": "code",
   "execution_count": 7,
   "metadata": {
    "collapsed": true
   },
   "outputs": [],
   "source": [
    "train_df = transactions_df.merge(properties_df, how='left', left_on='id_parcel', right_on='id_parcel')\n",
    "train_df[['year', 'month', 'day']] = train_df['date'].str.split('-', expand=True)"
   ]
  },
  {
   "cell_type": "markdown",
   "metadata": {},
   "source": [
    "## drop columns that are too null"
   ]
  },
  {
   "cell_type": "code",
   "execution_count": 8,
   "metadata": {
    "collapsed": true
   },
   "outputs": [],
   "source": [
    "keep_cols = train_df.columns[ train_df.isnull().mean() < .25 ]\n",
    "train_df = train_df[keep_cols]"
   ]
  },
  {
   "cell_type": "markdown",
   "metadata": {},
   "source": [
    "# inspect data"
   ]
  },
  {
   "cell_type": "code",
   "execution_count": 9,
   "metadata": {
    "collapsed": true
   },
   "outputs": [],
   "source": [
    "%matplotlib inline"
   ]
  },
  {
   "cell_type": "markdown",
   "metadata": {},
   "source": [
    "## which columns are most correlated with target?"
   ]
  },
  {
   "cell_type": "code",
   "execution_count": 10,
   "metadata": {
    "collapsed": true
   },
   "outputs": [],
   "source": [
    "float_cols = [col for col in train_df.columns if train_df[col].dtype == np.float64]"
   ]
  },
  {
   "cell_type": "code",
   "execution_count": 11,
   "metadata": {},
   "outputs": [
    {
     "data": {
      "text/plain": [
       "logerror               1.000000\n",
       "area_live_finished     0.041922\n",
       "area_total_calc        0.038784\n",
       "num_bathroom_calc      0.029448\n",
       "num_bath               0.028845\n",
       "num_bathroom           0.027889\n",
       "num_bedroom            0.025467\n",
       "tax_building           0.022085\n",
       "build_year             0.017312\n",
       "censustractandblock    0.008892\n",
       "Name: logerror, dtype: float64"
      ]
     },
     "execution_count": 11,
     "metadata": {},
     "output_type": "execute_result"
    }
   ],
   "source": [
    "train_df[float_cols].corr()['logerror'].abs().sort_values(ascending=False).head(10)"
   ]
  },
  {
   "cell_type": "code",
   "execution_count": 12,
   "metadata": {
    "collapsed": true
   },
   "outputs": [],
   "source": [
    "fixed_effects = ['area_live_finished', 'num_bathroom', 'build_year']"
   ]
  },
  {
   "cell_type": "markdown",
   "metadata": {},
   "source": [
    "# for now, drop rows with null values"
   ]
  },
  {
   "cell_type": "code",
   "execution_count": 14,
   "metadata": {
    "collapsed": true
   },
   "outputs": [],
   "source": [
    "train_df.dropna(inplace=True)"
   ]
  },
  {
   "cell_type": "markdown",
   "metadata": {},
   "source": [
    "# split into train, validation"
   ]
  },
  {
   "cell_type": "code",
   "execution_count": 18,
   "metadata": {
    "collapsed": true
   },
   "outputs": [],
   "source": [
    "X_train, X_val, y_train, y_val = train_test_split(train_df, train_df['logerror'], test_size=0.5, random_state=42)"
   ]
  },
  {
   "cell_type": "markdown",
   "metadata": {},
   "source": [
    "# build simple linear model"
   ]
  },
  {
   "cell_type": "code",
   "execution_count": 20,
   "metadata": {
    "collapsed": true
   },
   "outputs": [],
   "source": [
    "D = 1\n",
    "N = len(X_train)"
   ]
  },
  {
   "cell_type": "code",
   "execution_count": 100,
   "metadata": {
    "collapsed": true
   },
   "outputs": [],
   "source": [
    "area_live_finished = tf.placeholder(tf.float32, [N, D])\n",
    "β_area_live_finished = Normal(loc=tf.zeros(D), scale=tf.ones(D))\n",
    "α = Normal(loc=tf.zeros(1), scale=tf.ones(1))\n",
    "y = Normal(loc=ed.dot(area_live_finished, β_area_live_finished) + α, scale=tf.ones(N))"
   ]
  },
  {
   "cell_type": "code",
   "execution_count": 92,
   "metadata": {
    "collapsed": true
   },
   "outputs": [],
   "source": [
    "# `log(exp(features) + 1)`"
   ]
  },
  {
   "cell_type": "code",
   "execution_count": 102,
   "metadata": {
    "collapsed": true
   },
   "outputs": [],
   "source": [
    "qβ_area_live_finished = Normal(loc=tf.Variable(tf.random_normal([D])),\n",
    "            scale=tf.nn.softplus(tf.Variable(tf.random_normal([D]))))\n",
    "qα = Normal(loc=tf.Variable(tf.random_normal([1])),\n",
    "            scale=tf.nn.softplus(tf.Variable(tf.random_normal([1]))))"
   ]
  },
  {
   "cell_type": "code",
   "execution_count": 103,
   "metadata": {},
   "outputs": [
    {
     "name": "stdout",
     "output_type": "stream",
     "text": [
      "250/250 [100%] ██████████████████████████████ Elapsed: 7s | Loss: 1336646528.000\n"
     ]
    }
   ],
   "source": [
    "inference = ed.KLqp({β_area_live_finished: qβ_area_live_finished, α: qα}, data={area_live_finished: X_train['area_live_finished'].values.reshape(-1, 1), y: y_train.values})\n",
    "inference.run(n_samples=5, n_iter=250)"
   ]
  },
  {
   "cell_type": "code",
   "execution_count": 104,
   "metadata": {
    "collapsed": true
   },
   "outputs": [],
   "source": [
    "y_post = ed.copy(y, {β_area_live_finished: qβ_area_live_finished, α: qα})"
   ]
  },
  {
   "cell_type": "code",
   "execution_count": 105,
   "metadata": {
    "scrolled": false
   },
   "outputs": [
    {
     "name": "stdout",
     "output_type": "stream",
     "text": [
      "Mean squared error on test data:\n",
      "267.849\n",
      "Mean absolute error on test data:\n",
      "1.36922\n"
     ]
    }
   ],
   "source": [
    "print(\"Mean squared error on test data:\")\n",
    "print(ed.evaluate('mean_squared_error', data={area_live_finished: X_val['area_live_finished'].values.reshape(-1, 1), y_post: y_val.values}))\n",
    "\n",
    "print(\"Mean absolute error on test data:\")\n",
    "print(ed.evaluate('mean_absolute_error', data={area_live_finished: X_val['area_live_finished'].values.reshape(-1, 1), y_post: y_val.values}))"
   ]
  },
  {
   "cell_type": "code",
   "execution_count": 106,
   "metadata": {
    "collapsed": true
   },
   "outputs": [],
   "source": [
    "# def visualise(X_data, y_data, α, β_area_live_finished, n_samples=10):\n",
    "#     β_area_live_finished_samples = β_area_live_finished.sample(n_samples).eval()\n",
    "#     α_samples = α.sample(n_samples).eval()\n",
    "#     plt.scatter(X_data['area_live_finished'], y_data)\n",
    "#     inputs = np.linspace(0, 18000, num=100000)\n",
    "#     for ns in range(n_samples):\n",
    "#         output = α_samples[ns] + inputs * β_area_live_finished_samples[ns]\n",
    "#         plt.plot(inputs, output)\n",
    "\n",
    "def visualise(X_data, y_data, w, b, n_samples=10):\n",
    "  w_samples = w.sample(n_samples)[:, 0].eval()\n",
    "  b_samples = b.sample(n_samples).eval()\n",
    "  plt.scatter(X_data, y_data)\n",
    "  plt.ylim([-50000, 50000])\n",
    "  inputs = np.linspace(0, 16000, num=16000)\n",
    "  for ns in range(n_samples):\n",
    "    output = inputs * w_samples[ns] + b_samples[ns]\n",
    "    plt.plot(inputs, output)"
   ]
  },
  {
   "cell_type": "code",
   "execution_count": 107,
   "metadata": {},
   "outputs": [
    {
     "data": {
      "image/png": "[encoded data removed]",
      "text/plain": [
       "<matplotlib.figure.Figure at 0x143626278>"
      ]
     },
     "metadata": {},
     "output_type": "display_data"
    }
   ],
   "source": [
    "# Visualize samples from the prior.\n",
    "visualise(X_train['area_live_finished'], y_train, β_area_live_finished, α, n_samples=10)"
   ]
  },
  {
   "cell_type": "code",
   "execution_count": 109,
   "metadata": {},
   "outputs": [
    {
     "data": {
      "image/png": "[encoded data removed]",
      "text/plain": [
       "<matplotlib.figure.Figure at 0x143614390>"
      ]
     },
     "metadata": {},
     "output_type": "display_data"
    }
   ],
   "source": [
    "# Visualize samples from the posterior.\n",
    "visualise(X_train['area_live_finished'], y_train, qβ_area_live_finished, qα, n_samples=10)"
   ]
  }
 ],
 "metadata": {
  "kernelspec": {
   "display_name": "Python 3",
   "language": "python",
   "name": "python3"
  },
  "language_info": {
   "codemirror_mode": {
    "name": "ipython",
    "version": 3
   },
   "file_extension": ".py",
   "mimetype": "text/x-python",
   "name": "python",
   "nbconvert_exporter": "python",
   "pygments_lexer": "ipython3",
   "version": "3.6.1"
  }
 },
 "nbformat": 4,
 "nbformat_minor": 2
}
