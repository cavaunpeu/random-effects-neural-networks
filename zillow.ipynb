{
 "cells": [
  {
   "cell_type": "markdown",
   "metadata": {},
   "source": [
    "# models to build\n",
    "\n",
    "- linear model\n",
    "- linear mixed effects model\n",
    "- linear hierarchical model\n",
    "- linear mixed effects hierarchical model with neural network"
   ]
  },
  {
   "cell_type": "markdown",
   "metadata": {},
   "source": [
    "# notes\n",
    "- plop in the neural net\n",
    "- edward is awesome?\n",
    "- we're super flexible in all directions with edward, keras"
   ]
  },
  {
   "cell_type": "markdown",
   "metadata": {},
   "source": [
    "# import data"
   ]
  },
  {
   "cell_type": "code",
   "execution_count": 1,
   "metadata": {
    "collapsed": true
   },
   "outputs": [],
   "source": [
    "import pandas as pd"
   ]
  },
  {
   "cell_type": "code",
   "execution_count": 68,
   "metadata": {
    "collapsed": false
   },
   "outputs": [],
   "source": [
    "properties_df = pd.read_csv('data/properties.csv', low_memory=False)\n",
    "transactions_df = pd.read_csv('data/transactions.csv')"
   ]
  },
  {
   "cell_type": "code",
   "execution_count": 69,
   "metadata": {
    "collapsed": true
   },
   "outputs": [],
   "source": [
    "properties_df = properties_df.rename(columns={\n",
    "    'parcelid': 'id_parcel',\n",
    "    'yearbuilt': 'build_year',\n",
    "    'basementsqft': 'area_basement',\n",
    "    'yardbuildingsqft17': 'area_patio',\n",
    "    'yardbuildingsqft26': 'area_shed',\n",
    "    'poolsizesum': 'area_pool',\n",
    "    'lotsizesquarefeet': 'area_lot',\n",
    "    'garagetotalsqft': 'area_garage',\n",
    "    'finishedfloor1squarefeet': 'area_firstfloor_finished',\n",
    "    'calculatedfinishedsquarefeet': 'area_total_calc',\n",
    "    'finishedsquarefeet6': 'area_base',\n",
    "    'finishedsquarefeet12': 'area_live_finished',\n",
    "    'finishedsquarefeet13': 'area_liveperi_finished',\n",
    "    'finishedsquarefeet15': 'area_total_finished',\n",
    "    'finishedsquarefeet50': 'area_unknown',\n",
    "    'unitcnt': 'num_unit',\n",
    "    'numberofstories': 'num_story',\n",
    "    'roomcnt': 'num_room',\n",
    "    'bathroomcnt': 'num_bathroom',\n",
    "    'bedroomcnt': 'num_bedroom',\n",
    "    'calculatedbathnbr': 'num_bathroom_calc',\n",
    "    'fullbathcnt': 'num_bath',\n",
    "    'threequarterbathnbr': 'num_75_bath',\n",
    "    'fireplacecnt': 'num_fireplace',\n",
    "    'poolcnt': 'num_pool',\n",
    "    'garagecarcnt': 'num_garage',\n",
    "    'regionidcounty': 'region_county',\n",
    "    'regionidcity': 'region_city',\n",
    "    'regionidzip': 'region_zip',\n",
    "    'regionidneighborhood': 'region_neighbor',\n",
    "    'taxvaluedollarcnt': 'tax_total',\n",
    "    'structuretaxvaluedollarcnt': 'tax_building',\n",
    "    'landtaxvaluedollarcnt': 'tax_land',\n",
    "    'taxamount': 'tax_property',\n",
    "    'assessmentyear': 'tax_year',\n",
    "    'taxdelinquencyflag': 'tax_delinquency',\n",
    "    'taxdelinquencyyear': 'tax_delinquency_year',\n",
    "    'propertyzoningdesc': 'zoning_property',\n",
    "    'propertylandusetypeid': 'zoning_landuse',\n",
    "    'propertycountylandusecode': 'zoning_landuse_county',\n",
    "    'fireplaceflag': 'flag_fireplace',\n",
    "    'hashottuborspa': 'flag_tub',\n",
    "    'buildingqualitytypeid': 'quality',\n",
    "    'buildingclasstypeid': 'framing',\n",
    "    'typeconstructiontypeid': 'material',\n",
    "    'decktypeid': 'deck',\n",
    "    'storytypeid': 'story',\n",
    "    'heatingorsystemtypeid': 'heating',\n",
    "    'airconditioningtypeid': 'aircon',\n",
    "    'architecturalstyletypeid': 'architectural_style'\n",
    "})"
   ]
  },
  {
   "cell_type": "code",
   "execution_count": 70,
   "metadata": {
    "collapsed": true
   },
   "outputs": [],
   "source": [
    "transactions_df = transactions_df.rename(columns={\n",
    "  'parcelid': 'id_parcel',\n",
    "  'transactiondate': 'date'\n",
    "})"
   ]
  },
  {
   "cell_type": "code",
   "execution_count": 97,
   "metadata": {
    "collapsed": true
   },
   "outputs": [],
   "source": [
    "train_df = transactions_df.merge(properties_df, how='left', left_on='id_parcel', right_on='id_parcel')\n",
    "train_df[['year', 'month', 'day']] = train_df['date'].str.split('-', expand=True)"
   ]
  },
  {
   "cell_type": "markdown",
   "metadata": {},
   "source": [
    "## drop columns that are too null"
   ]
  },
  {
   "cell_type": "code",
   "execution_count": 181,
   "metadata": {
    "collapsed": false
   },
   "outputs": [],
   "source": [
    "keep_cols = train_df.columns[ train_df.isnull().mean() < .25 ]\n",
    "train_df = train_df[keep_cols]"
   ]
  },
  {
   "cell_type": "markdown",
   "metadata": {},
   "source": [
    "# inspect data"
   ]
  },
  {
   "cell_type": "code",
   "execution_count": 104,
   "metadata": {
    "collapsed": true
   },
   "outputs": [],
   "source": [
    "%matplotlib inline"
   ]
  },
  {
   "cell_type": "markdown",
   "metadata": {},
   "source": [
    "## which columns are most correlated with target?"
   ]
  },
  {
   "cell_type": "code",
   "execution_count": 182,
   "metadata": {
    "collapsed": false
   },
   "outputs": [],
   "source": [
    "float_cols = [col for col in train_df.columns if train_df[col].dtype == np.float64]"
   ]
  },
  {
   "cell_type": "code",
   "execution_count": 186,
   "metadata": {
    "collapsed": false
   },
   "outputs": [
    {
     "data": {
      "text/plain": [
       "logerror               1.000000\n",
       "area_live_finished     0.041922\n",
       "area_total_calc        0.038784\n",
       "num_bathroom_calc      0.029448\n",
       "num_bath               0.028845\n",
       "num_bathroom           0.027889\n",
       "num_bedroom            0.025467\n",
       "tax_building           0.022085\n",
       "build_year             0.017312\n",
       "censustractandblock    0.008892\n",
       "Name: logerror, dtype: float64"
      ]
     },
     "execution_count": 186,
     "metadata": {},
     "output_type": "execute_result"
    }
   ],
   "source": [
    "train_df[float_cols].corr().ix['logerror'].abs().sort_values(ascending=False).head(10)"
   ]
  },
  {
   "cell_type": "code",
   "execution_count": 187,
   "metadata": {
    "collapsed": true
   },
   "outputs": [],
   "source": [
    "fixed_effects = ['area_live_finished', 'num_bathroom', 'build_year']"
   ]
  },
  {
   "cell_type": "code",
   "execution_count": 197,
   "metadata": {
    "collapsed": true
   },
   "outputs": [],
   "source": [
    "train_df = train_df[fixed_effects]"
   ]
  },
  {
   "cell_type": "markdown",
   "metadata": {},
   "source": [
    "# for now, drop rows with null values"
   ]
  },
  {
   "cell_type": "code",
   "execution_count": 195,
   "metadata": {
    "collapsed": false
   },
   "outputs": [],
   "source": [
    "train_df.dropna(inplace=True)"
   ]
  }
 ],
 "metadata": {
  "kernelspec": {
   "display_name": "Python 3",
   "language": "python",
   "name": "python3"
  },
  "language_info": {
   "codemirror_mode": {
    "name": "ipython",
    "version": 3
   },
   "file_extension": ".py",
   "mimetype": "text/x-python",
   "name": "python",
   "nbconvert_exporter": "python",
   "pygments_lexer": "ipython3",
   "version": "3.6.0"
  }
 },
 "nbformat": 4,
 "nbformat_minor": 2
}
