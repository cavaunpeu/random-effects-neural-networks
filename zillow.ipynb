{
 "cells": [
  {
   "cell_type": "markdown",
   "metadata": {},
   "source": [
    "# models to build\n",
    "\n",
    "- linear model\n",
    "- linear mixed effects model\n",
    "- linear hierarchical model\n",
    "- linear mixed effects hierarchical model with neural network"
   ]
  },
  {
   "cell_type": "markdown",
   "metadata": {},
   "source": [
    "# notes\n",
    "- plop in the neural net\n",
    "- edward is awesome?\n",
    "- we're super flexible in all directions with edward, keras"
   ]
  },
  {
   "cell_type": "markdown",
   "metadata": {},
   "source": [
    "# import data"
   ]
  },
  {
   "cell_type": "code",
   "execution_count": 1,
   "metadata": {
    "collapsed": true
   },
   "outputs": [],
   "source": [
    "import pandas as pd"
   ]
  },
  {
   "cell_type": "code",
   "execution_count": 68,
   "metadata": {
    "collapsed": false
   },
   "outputs": [],
   "source": [
    "properties_df = pd.read_csv('data/properties.csv', low_memory=False)\n",
    "transactions_df = pd.read_csv('data/transactions.csv')"
   ]
  },
  {
   "cell_type": "code",
   "execution_count": 69,
   "metadata": {
    "collapsed": true
   },
   "outputs": [],
   "source": [
    "properties_df = properties_df.rename(columns={\n",
    "    'parcelid': 'id_parcel',\n",
    "    'yearbuilt': 'build_year',\n",
    "    'basementsqft': 'area_basement',\n",
    "    'yardbuildingsqft17': 'area_patio',\n",
    "    'yardbuildingsqft26': 'area_shed',\n",
    "    'poolsizesum': 'area_pool',\n",
    "    'lotsizesquarefeet': 'area_lot',\n",
    "    'garagetotalsqft': 'area_garage',\n",
    "    'finishedfloor1squarefeet': 'area_firstfloor_finished',\n",
    "    'calculatedfinishedsquarefeet': 'area_total_calc',\n",
    "    'finishedsquarefeet6': 'area_base',\n",
    "    'finishedsquarefeet12': 'area_live_finished',\n",
    "    'finishedsquarefeet13': 'area_liveperi_finished',\n",
    "    'finishedsquarefeet15': 'area_total_finished',\n",
    "    'finishedsquarefeet50': 'area_unknown',\n",
    "    'unitcnt': 'num_unit',\n",
    "    'numberofstories': 'num_story',\n",
    "    'roomcnt': 'num_room',\n",
    "    'bathroomcnt': 'num_bathroom',\n",
    "    'bedroomcnt': 'num_bedroom',\n",
    "    'calculatedbathnbr': 'num_bathroom_calc',\n",
    "    'fullbathcnt': 'num_bath',\n",
    "    'threequarterbathnbr': 'num_75_bath',\n",
    "    'fireplacecnt': 'num_fireplace',\n",
    "    'poolcnt': 'num_pool',\n",
    "    'garagecarcnt': 'num_garage',\n",
    "    'regionidcounty': 'region_county',\n",
    "    'regionidcity': 'region_city',\n",
    "    'regionidzip': 'region_zip',\n",
    "    'regionidneighborhood': 'region_neighbor',\n",
    "    'taxvaluedollarcnt': 'tax_total',\n",
    "    'structuretaxvaluedollarcnt': 'tax_building',\n",
    "    'landtaxvaluedollarcnt': 'tax_land',\n",
    "    'taxamount': 'tax_property',\n",
    "    'assessmentyear': 'tax_year',\n",
    "    'taxdelinquencyflag': 'tax_delinquency',\n",
    "    'taxdelinquencyyear': 'tax_delinquency_year',\n",
    "    'propertyzoningdesc': 'zoning_property',\n",
    "    'propertylandusetypeid': 'zoning_landuse',\n",
    "    'propertycountylandusecode': 'zoning_landuse_county',\n",
    "    'fireplaceflag': 'flag_fireplace',\n",
    "    'hashottuborspa': 'flag_tub',\n",
    "    'buildingqualitytypeid': 'quality',\n",
    "    'buildingclasstypeid': 'framing',\n",
    "    'typeconstructiontypeid': 'material',\n",
    "    'decktypeid': 'deck',\n",
    "    'storytypeid': 'story',\n",
    "    'heatingorsystemtypeid': 'heating',\n",
    "    'airconditioningtypeid': 'aircon',\n",
    "    'architecturalstyletypeid': 'architectural_style'\n",
    "})"
   ]
  },
  {
   "cell_type": "code",
   "execution_count": 70,
   "metadata": {
    "collapsed": true
   },
   "outputs": [],
   "source": [
    "transactions_df = transactions_df.rename(columns={\n",
    "  'parcelid': 'id_parcel',\n",
    "  'transactiondate': 'date'\n",
    "})"
   ]
  },
  {
   "cell_type": "code",
   "execution_count": 73,
   "metadata": {
    "collapsed": true
   },
   "outputs": [],
   "source": [
    "train_df = transactions_df.merge(properties_df, how='left', left_on='id_parcel', right_on='id_parcel')"
   ]
  },
  {
   "cell_type": "code",
   "execution_count": 78,
   "metadata": {
    "collapsed": true
   },
   "outputs": [],
   "source": [
    "COLUMNS = ['num_bathroom', 'num_bedroom', 'fips', 'area_live_finished', 'architectural_style', 'log_error', 'month']"
   ]
  }
 ],
 "metadata": {
  "kernelspec": {
   "display_name": "Python 3",
   "language": "python",
   "name": "python3"
  },
  "language_info": {
   "codemirror_mode": {
    "name": "ipython",
    "version": 3
   },
   "file_extension": ".py",
   "mimetype": "text/x-python",
   "name": "python",
   "nbconvert_exporter": "python",
   "pygments_lexer": "ipython3",
   "version": "3.6.0"
  }
 },
 "nbformat": 4,
 "nbformat_minor": 2
}
